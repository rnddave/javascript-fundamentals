{
 "cells": [
  {
   "cell_type": "markdown",
   "metadata": {},
   "source": [
    "# Think like a Programmer"
   ]
  },
  {
   "cell_type": "markdown",
   "metadata": {},
   "source": [
    "1. Understand\n",
    "Know exactly what is being asked. Most hard problems are hard because you don’t understand them (hence why this is the first step).\n",
    "\n",
    "How to know when you understand a problem? When you can explain it in plain English.\n",
    "\n",
    "Do you remember being stuck on a problem, you start explaining it, and you instantly see holes in the logic you didn’t see before?\n",
    "\n",
    "Most programmers know this feeling.\n",
    "\n",
    "This is why you should write down your problem, doodle a diagram, or tell someone else about it (or thing… some people use a rubber duck).\n",
    "\n",
    "“If you can’t explain something in simple terms, you don’t understand it.” — Richard Feynman"
   ]
  },
  {
   "cell_type": "markdown",
   "metadata": {},
   "source": [
    "2. Plan\n",
    "Don’t dive right into solving without a plan (and somehow hope you can muddle your way through). Plan your solution!\n",
    "\n",
    "Nothing can help you if you can’t write down the exact steps.\n",
    "\n",
    "In programming, this means don’t start hacking straight away. Give your brain time to analyze the problem and process the information.\n",
    "\n",
    "To get a good plan, answer this question:\n",
    "\n",
    "“Given input X, what are the steps necessary to return output Y?”\n",
    "\n",
    "Sidenote: Programmers have a great tool to help them with this… Comments!"
   ]
  },
  {
   "cell_type": "markdown",
   "metadata": {},
   "source": [
    "3. Divide\n",
    "Pay attention. This is the most important step of all.\n",
    "\n",
    "Do not try to solve one big problem. You will cry.\n",
    "\n",
    "Instead, break it into sub-problems. These sub-problems are much easier to solve.\n",
    "\n",
    "Then, solve each sub-problem one by one. Begin with the simplest. Simplest means you know the answer (or are closer to that answer).\n",
    "\n",
    "After that, simplest means this sub-problem being solved doesn’t depend on others being solved.\n",
    "\n",
    "Once you solved every sub-problem, connect the dots.\n",
    "\n",
    "Connecting all your “sub-solutions” will give you the solution to the original problem. Congratulations!\n",
    "\n",
    "This technique is a cornerstone of problem-solving. Remember it (read this step again, if you must).\n",
    "\n",
    "“If I could teach every beginning programmer one problem-solving skill, it would be the ‘reduce the problem technique.’\n",
    "For example, suppose you’re a new programmer and you’re asked to write a program that reads ten numbers and figures out which number is the third highest. For a brand-new programmer, that can be a tough assignment, even though it only requires basic programming syntax.\n",
    "If you’re stuck, you should reduce the problem to something simpler. Instead of the third-highest number, what about finding the highest overall? Still too tough? What about finding the largest of just three numbers? Or the larger of two?\n",
    "Reduce the problem to the point where you know how to solve it and write the solution. Then expand the problem slightly and rewrite the solution to match, and keep going until you are back where you started.” — V. Anton Spraul"
   ]
  },
  {
   "cell_type": "markdown",
   "metadata": {},
   "source": [
    "4. Stuck?\n",
    "By now, you’re probably sitting there thinking “Hey Richard... That’s cool and all, but what if I’m stuck and can’t even solve a sub-problem??”\n",
    "\n",
    "First off, take a deep breath. Second, that’s fair.\n",
    "\n",
    "Don’t worry though, friend. This happens to everyone!\n",
    "\n",
    "The difference is the best programmers/problem-solvers are more curious about bugs/errors than irritated.\n",
    "\n",
    "In fact, here are three things to try when facing a whammy:\n",
    "\n",
    "Debug: Go step by step through your solution trying to find where you went wrong. Programmers call this debugging (in fact, this is all a debugger does).\n",
    "“The art of debugging is figuring out what you really told your program to do rather than what you thought you told it to do.”” — Andrew Singer\n",
    "Reassess: Take a step back. Look at the problem from another perspective. Is there anything that can be abstracted to a more general approach?\n",
    "“Sometimes we get so lost in the details of a problem that we overlook general principles that would solve the problem at a more general level. […]\n",
    "The classic example of this, of course, is the summation of a long list of consecutive integers, 1 + 2 + 3 + … + n, which a very young Gauss quickly recognized was simply n(n+1)/2, thus avoiding the effort of having to do the addition.” — C. Jordan Ball\n",
    "Sidenote: Another way of reassessing is starting anew. Delete everything and begin again with fresh eyes. I’m serious. You’ll be dumbfounded at how effective this is.\n",
    "\n",
    "Research: Ahh, good ol’ Google. You read that right. No matter what problem you have, someone has probably solved it. Find that person/ solution. In fact, do this even if you solved the problem! (You can learn a lot from other people’s solutions).\n",
    "Caveat: Don’t look for a solution to the big problem. Only look for solutions to sub-problems. Why? Because unless you struggle (even a little bit), you won’t learn anything. If you don’t learn anything, you wasted your time."
   ]
  },
  {
   "cell_type": "markdown",
   "metadata": {},
   "source": [
    "# Practice\n",
    "Don’t expect to be great after just one week. If you want to be a good problem-solver, solve a lot of problems!\n",
    "\n",
    "Practice. Practice. Practice. It’ll only be a matter of time before you recognize that “this problem could easily be solved with <insert concept here>.”\n",
    "\n",
    "How to practice? There are options out the wazoo!\n",
    "\n",
    "Chess puzzles, math problems, Sudoku, Go, Monopoly, video-games, cryptokitties, bla… bla… bla….\n",
    "\n",
    "In fact, a common pattern amongst successful people is their habit of practicing “micro problem-solving.” For example, Peter Thiel plays chess, and Elon Musk plays video-games.\n",
    "\n",
    "“Byron Reeves said ‘If you want to see what business leadership may look like in three to five years, look at what’s happening in online games.’\n",
    "Fast-forward to today. Elon [Musk], Reid [Hoffman], Mark Zuckerberg and many others say that games have been foundational to their success in building their companies.” — Mary Meeker (2017 internet trends report)\n",
    "Does this mean you should just play video-games? Not at all.\n",
    "\n",
    "But what are video-games all about? That’s right, problem-solving!\n",
    "\n",
    "So, what you should do is find an outlet to practice. Something that allows you to solve many micro-problems (ideally, something you enjoy).\n",
    "\n",
    "For example, I enjoy coding challenges. Every day, I try to solve at least one challenge (usually on Coderbyte).\n",
    "\n",
    "Like I said, all problems share similar patterns."
   ]
  },
  {
   "cell_type": "markdown",
   "metadata": {},
   "source": [
    "# Conclusion\n",
    "That’s all folks!\n",
    "\n",
    "Now, you know better what it means to “think like a programmer.”\n",
    "\n",
    "You also know that problem-solving is an incredible skill to cultivate (the meta-skill).\n",
    "\n",
    "As if that wasn’t enough, notice how you also know what to do to practice your problem-solving skills!\n",
    "\n",
    "Phew… Pretty cool right?\n",
    "\n",
    "Finally, I wish you encounter many problems.\n",
    "\n",
    "You read that right. At least now you know how to solve them! (also, you’ll learn that with every solution, you improve).\n",
    "\n",
    "“Just when you think you’ve successfully navigated one obstacle, another emerges. But that’s what keeps life interesting.[…]\n",
    "Life is a process of breaking through these impediments — a series of fortified lines that we must break through.\n",
    "Each time, you’ll learn something.\n",
    "Each time, you’ll develop strength, wisdom, and perspective.\n",
    "Each time, a little more of the competition falls away. Until all that is left is you: the best version of you.” — Ryan Holiday (The Obstacle is the Way)\n",
    "Now, go solve some problems!"
   ]
  }
 ],
 "metadata": {
  "kernelspec": {
   "display_name": "Python 3.9.13 64-bit",
   "language": "python",
   "name": "python3"
  },
  "language_info": {
   "name": "python",
   "version": "3.9.13"
  },
  "orig_nbformat": 4,
  "vscode": {
   "interpreter": {
    "hash": "b0fa6594d8f4cbf19f97940f81e996739fb7646882a419484c72d19e05852a7e"
   }
  }
 },
 "nbformat": 4,
 "nbformat_minor": 2
}
