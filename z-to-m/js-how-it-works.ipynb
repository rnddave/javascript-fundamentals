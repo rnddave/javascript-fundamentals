{
 "cells": [
  {
   "cell_type": "markdown",
   "metadata": {},
   "source": [
    "# How does JS work? \n",
    "\n",
    "- allocate memory \n",
    "- parse and execute scripts\n",
    "\n",
    "### WHAT THIS MORE THAN ONCE >> \n",
    "https://academy.zerotomastery.io/courses/697434/lectures/12634743\n",
    "\n",
    "## javascript engine \n",
    "- reads instructions and converts to something the computer can do stuff with \n",
    "- memory heap (like when we declare a variable etc)"
   ]
  },
  {
   "cell_type": "code",
   "execution_count": null,
   "metadata": {
    "vscode": {
     "languageId": "javascript"
    }
   },
   "outputs": [],
   "source": [
    "const a = 25 // a variable in the memory heap "
   ]
  },
  {
   "cell_type": "markdown",
   "metadata": {},
   "source": [
    "## The Call stack\n",
    "\n",
    "This is something that is running for example \n",
    "\n",
    "> console.log('1');  // this is now in the call stack, after it's run it is removed from the call stack\n",
    "> console.log(2); // now this is the new call stack item"
   ]
  },
  {
   "cell_type": "code",
   "execution_count": 5,
   "metadata": {
    "vscode": {
     "languageId": "javascript"
    }
   },
   "outputs": [
    {
     "data": {
      "application/javascript": "\nconsole.log(1);\nalert('doggy');\n",
      "text/plain": [
       "<IPython.core.display.Javascript object>"
      ]
     },
     "metadata": {},
     "output_type": "display_data"
    }
   ],
   "source": [
    "%%js\n",
    "console.log(1);\n",
    "alert('doggy');"
   ]
  },
  {
   "cell_type": "markdown",
   "metadata": {},
   "source": [
    "call stack reads and executes our script. \n",
    "\n",
    "something has been added, lets pop it on to the call stack. \n",
    "\n",
    "when something finishes running, remove it and then get the next item for the call stack "
   ]
  },
  {
   "cell_type": "code",
   "execution_count": null,
   "metadata": {
    "vscode": {
     "languageId": "javascript"
    }
   },
   "outputs": [],
   "source": [
    "const one = () => {\n",
    "    const two = () => {\n",
    "        console.log(4);\n",
    "    }\n",
    "    two()\n",
    "}\n",
    "\n",
    "one()"
   ]
  },
  {
   "cell_type": "markdown",
   "metadata": {},
   "source": [
    "what would happen above... \n",
    "\n",
    "- look inside one()\n",
    "- one() calls two(), so look inside two()\n",
    "- two calls console.log(4) \n",
    "\n",
    "then in reverse, the callstack looks like this: \n",
    "\n",
    "- remove from call stack >>   console.log(4)\n",
    "- remove from call stack >>   two()\n",
    "- remove from call stack >>   one()"
   ]
  },
  {
   "cell_type": "markdown",
   "metadata": {},
   "source": [
    "# JavaScript is a Single-Threaded Language that can be Non-Blocking \n",
    "\n",
    "- single-threaded = one call stack \n",
    "- first in, last out (FILO)\n",
    "\n",
    "- some languages can multi0thread, JS was designed to be single threaded \n",
    "- this avoids things like dev locks \n",
    "\n",
    "- synchronous programming = execute in order\n",
    "\n",
    "### Stack overflow \n",
    "\n",
    "- we use it all the time, but what does it mean\n",
    "- memory leaks, call stack is too big, not enough space, boom, stack overflow\n",
    "\n",
    "can we create a stack overflow? "
   ]
  },
  {
   "cell_type": "code",
   "execution_count": null,
   "metadata": {
    "vscode": {
     "languageId": "javascript"
    }
   },
   "outputs": [],
   "source": [
    "function foo() {\n",
    "    foo()\n",
    "}\n",
    "\n",
    "foo()"
   ]
  },
  {
   "cell_type": "markdown",
   "metadata": {},
   "source": [
    "we made an oopsie here... \n",
    "\n",
    "- we created a recursive loop\n",
    "- foo() calls foo() which calls foo() which calls foo() - infinitely (or until the memory stack is full...)"
   ]
  },
  {
   "cell_type": "markdown",
   "metadata": {},
   "source": [
    "## Single Threaded \n",
    "\n",
    "- so JS is single threaded, but what if I have a lot of things to do? \n",
    "- everything is stuck waiting for the thing before ?\n",
    "\n",
    "well no, JS can be NON BLOCKING\n",
    "\n",
    "# Non-Blocking \n",
    "\n",
    "- ideally don't wait for things that take time\n",
    "- asynchronous to the rescue\n",
    "- example an API call - we don't want rest of program waiting for the API to return results... \n",
    "\n",
    "so how do we do it then? "
   ]
  },
  {
   "cell_type": "code",
   "execution_count": null,
   "metadata": {
    "vscode": {
     "languageId": "javascript"
    }
   },
   "outputs": [],
   "source": [
    "console.log(1);\n",
    "setTimeout(() => {\n",
    "    console.log(2);\n",
    "}, 2000);\n",
    "console.log(3); \n",
    "\n",
    "/*\n",
    "1\n",
    "3\n",
    "undefined       // there is a 2 second delay (2000 miliseconds)\n",
    "2\n",
    "*/"
   ]
  },
  {
   "cell_type": "markdown",
   "metadata": {},
   "source": [
    "what happens here? \n",
    "\n",
    "- async programming just happened \n",
    "\n",
    "- in order for the JS engine to run, we need a JS runtime environment\n",
    "\n",
    "# JavaScript Runtim Environment \n",
    "\n",
    "- part of the browser \n",
    "- on top of the JS engine, also has \n",
    "- Web APIs\n",
    "- Callback queue\n",
    "- Event loop\n",
    "\n",
    "### Set TimeOut\n",
    "\n",
    "- this is technically part of the Web API \n",
    "\n",
    "So what would this look like in the call stack? "
   ]
  },
  {
   "cell_type": "markdown",
   "metadata": {},
   "source": [
    "### CALL STACK\n",
    "console.log(1);\n",
    " >> setTimeout = pop it out to the Web API\n",
    "console.log(3); \n",
    "\n",
    "### WEB API\n",
    "setTimeout(() => {\n",
    "    console.log(2);\n",
    "}, 2000); \n",
    "\n",
    "### CALLBACK QUEUE\n",
    ">> after 2000 ms run the console.log(2)\n",
    "\n",
    "### EVENT LOOP\n",
    "- keep checking if the call stack is empty? \n",
    "- do we have any call backs? \n",
    "- call stack is empty so we can throw something else in there"
   ]
  },
  {
   "cell_type": "markdown",
   "metadata": {},
   "source": [
    "For reference, let's just see if we told setTimeout() to 0, what would happen? \n",
    "\n",
    "### CALL STACK\n",
    "console.log(1);\n",
    " >> setTimeout = pop it out to the Web API\n",
    "console.log(3); \n",
    "\n",
    "### WEB API\n",
    "setTimeout(() => {\n",
    "    console.log(2);\n",
    "}, 0); \n",
    "\n",
    "### CALLBACK QUEUE\n",
    ">> after 0 ms run the console.log(2)\n",
    "\n",
    "## HOWEVER !! \n",
    "\n",
    "output would still be \n",
    "> 1\n",
    "> 3\n",
    "> 2\n",
    "\n",
    "### Why? \n",
    "\n",
    "- Because the setTimeout moves the actual command out of the call stack, \n",
    "- sends it up to the Web API, \n",
    "- Web API has nothing to wait for\n",
    "- but we need Event Loop to run and see if there is anything waiting to be sent back \n",
    "- this all happens quickly in our case, but this is why the order is still 1,3,2"
   ]
  },
  {
   "cell_type": "markdown",
   "metadata": {},
   "source": [
    "### Cool Example for Sync vs Async >> \n",
    "\n",
    "Synchronous request for help >\n",
    "- call (or go to) your mentor\n",
    "- describe the problem\n",
    "- wait until they have time to help you find a solution\n",
    "- you are unable to proceed until they have the time (this example needs work)\n",
    "\n",
    "Asynchronous request for help >\n",
    "- send a text/email/slack to your mentor with a description of the problem\n",
    "- you can go about your own business, move on to another task \n",
    "- when the mentor has time to read problem description, they can reply\n",
    "- you can now revisit this piece of work"
   ]
  },
  {
   "cell_type": "markdown",
   "metadata": {},
   "source": [
    "# Callback Queue\n",
    "\n",
    "- also has onClick , onDone, onLoad\n",
    "- this is also like a callback function, we pull it out of the normal syncronous flow, so the page doesn't just stop\n",
    "- we listen and wait for something to happen then the event loop passes it back to the call stack (one thing at a time)"
   ]
  }
 ],
 "metadata": {
  "kernelspec": {
   "display_name": "Python 3.9.13 ('base')",
   "language": "python",
   "name": "python3"
  },
  "language_info": {
   "codemirror_mode": {
    "name": "ipython",
    "version": 3
   },
   "file_extension": ".py",
   "mimetype": "text/x-python",
   "name": "python",
   "nbconvert_exporter": "python",
   "pygments_lexer": "ipython3",
   "version": "3.9.13"
  },
  "orig_nbformat": 4,
  "vscode": {
   "interpreter": {
    "hash": "29ba88fc74c30cfb08fb6ce3b25c2ccd724cd11e96a643650e6c772fb9859a2d"
   }
  }
 },
 "nbformat": 4,
 "nbformat_minor": 2
}
