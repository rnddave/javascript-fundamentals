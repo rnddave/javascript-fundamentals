{
 "cells": [
  {
   "cell_type": "markdown",
   "metadata": {},
   "source": [
    "# How does JS work? \n",
    "\n",
    "- allocate memory \n",
    "- parse and execute scripts\n",
    "\n",
    "## javascript engine \n",
    "- reads instructions and converts to something the computer can do stuff with \n",
    "- memory heap (like when we declare a variable etc)"
   ]
  },
  {
   "cell_type": "code",
   "execution_count": null,
   "metadata": {
    "vscode": {
     "languageId": "javascript"
    }
   },
   "outputs": [],
   "source": [
    "const a = 25 // a variable in the memory heap "
   ]
  },
  {
   "cell_type": "markdown",
   "metadata": {},
   "source": [
    "## The Call stack\n",
    "\n",
    "This is something that is running for example \n",
    "\n",
    "> console.log('1');  // this is now in the call stack, after it's run it is removed from the call stack\n",
    "> console.log(2); // now this is the new call stack item"
   ]
  },
  {
   "cell_type": "code",
   "execution_count": 5,
   "metadata": {
    "vscode": {
     "languageId": "javascript"
    }
   },
   "outputs": [
    {
     "data": {
      "application/javascript": "\nconsole.log(1);\nalert('doggy');\n",
      "text/plain": [
       "<IPython.core.display.Javascript object>"
      ]
     },
     "metadata": {},
     "output_type": "display_data"
    }
   ],
   "source": [
    "%%js\n",
    "console.log(1);\n",
    "alert('doggy');"
   ]
  },
  {
   "cell_type": "markdown",
   "metadata": {},
   "source": [
    "call stack reads and executes our script. \n",
    "\n",
    "something has been added, lets pop it on to the call stack. \n",
    "\n",
    "when something finishes running, remove it and then get the next item for the call stack "
   ]
  },
  {
   "cell_type": "code",
   "execution_count": null,
   "metadata": {
    "vscode": {
     "languageId": "javascript"
    }
   },
   "outputs": [],
   "source": [
    "const one = () => {\n",
    "    const two = () => {\n",
    "        console.log(4);\n",
    "    }\n",
    "    two()\n",
    "}\n",
    "\n",
    "one()"
   ]
  },
  {
   "cell_type": "markdown",
   "metadata": {},
   "source": [
    "what would happen above... \n",
    "\n",
    "- look inside one()\n",
    "- one() calls two(), so look inside two()\n",
    "- two calls console.log(4) \n",
    "\n",
    "then in reverse, the callstack looks like this: \n",
    "\n",
    "- remove from call stack >>   console.log(4)\n",
    "- remove from call stack >>   two()\n",
    "- remove from call stack >>   one()"
   ]
  },
  {
   "cell_type": "markdown",
   "metadata": {},
   "source": []
  }
 ],
 "metadata": {
  "kernelspec": {
   "display_name": "Python 3.9.13 ('base')",
   "language": "python",
   "name": "python3"
  },
  "language_info": {
   "codemirror_mode": {
    "name": "ipython",
    "version": 3
   },
   "file_extension": ".py",
   "mimetype": "text/x-python",
   "name": "python",
   "nbconvert_exporter": "python",
   "pygments_lexer": "ipython3",
   "version": "3.9.13"
  },
  "orig_nbformat": 4,
  "vscode": {
   "interpreter": {
    "hash": "29ba88fc74c30cfb08fb6ce3b25c2ccd724cd11e96a643650e6c772fb9859a2d"
   }
  }
 },
 "nbformat": 4,
 "nbformat_minor": 2
}
