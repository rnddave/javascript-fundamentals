{
 "cells": [
  {
   "cell_type": "markdown",
   "metadata": {},
   "source": [
    "https://github.com/getify/You-Dont-Know-JS\n",
    "\n",
    "http://javascript.info/\n",
    "\n",
    "http://dmitrysoshnikov.com/ecmascript/javascript-the-core-2nd-edition/\n",
    "\n",
    "Advanced JavaScript Full Course >> https://academy.zerotomastery.io/p/advanced-javascript-concepts \n",
    "\n"
   ]
  }
 ],
 "metadata": {
  "language_info": {
   "name": "python"
  },
  "orig_nbformat": 4
 },
 "nbformat": 4,
 "nbformat_minor": 2
}
