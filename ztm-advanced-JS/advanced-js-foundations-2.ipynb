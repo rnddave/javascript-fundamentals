{
 "cells": [
  {
   "attachments": {},
   "cell_type": "markdown",
   "metadata": {},
   "source": [
    "# Execution Context \n",
    "\n",
    "- appy variables\n",
    "- run code\n",
    "\n",
    "- when JS sees a function\n",
    "- sees () = create execution function \n",
    "- add this to the call stack\n",
    "- if that calls another function, recognise it, add it to call stack "
   ]
  },
  {
   "cell_type": "code",
   "execution_count": null,
   "metadata": {
    "vscode": {
     "languageId": "javascript"
    }
   },
   "outputs": [],
   "source": [
    "function printName() {\n",
    "    return 'The Name you seek is mine'\n",
    "}\n",
    "\n",
    "function findName() {\n",
    "    return printName()\n",
    "}\n",
    "\n",
    "function sayName() {\n",
    "    return findName()\n",
    "}\n",
    "\n",
    "sayName();"
   ]
  },
  {
   "attachments": {},
   "cell_type": "markdown",
   "metadata": {},
   "source": [
    "call stack\n",
    "\n",
    "|   |   |   |   |   |\n",
    "|---|---|---|---|---|\n",
    "|  sayName() | findName()  | printName()  | findName()  |  sayName() |\n",
    "|   |  sayName()   | findName()  | sayName()  |   |\n",
    "|   |   |  sayName()  |   |   |\n",
    "\n"
   ]
  },
  {
   "attachments": {},
   "cell_type": "markdown",
   "metadata": {},
   "source": [
    "GLOBAL EXECUTION CONTEXT \n",
    "- we don't see this\n",
    "- under the hood, here, look at this JS file and start reading it\n",
    "- global runs for as long as the code is running"
   ]
  },
  {
   "attachments": {},
   "cell_type": "markdown",
   "metadata": {},
   "source": [
    "So when we say we run something in JavAscript, we're running it in an Execution Context\n",
    "\n",
    "![exec-context](global-exec-context.png)"
   ]
  },
  {
   "attachments": {},
   "cell_type": "markdown",
   "metadata": {},
   "source": [
    "- global execution context\n",
    "- first thing that goes on the call stack "
   ]
  },
  {
   "attachments": {},
   "cell_type": "markdown",
   "metadata": {},
   "source": [
    "# Lexical Environment\n"
   ]
  },
  {
   "attachments": {},
   "cell_type": "markdown",
   "metadata": {},
   "source": [
    "# Scope Chain\n"
   ]
  },
  {
   "attachments": {},
   "cell_type": "markdown",
   "metadata": {},
   "source": [
    "# Hoisting\n"
   ]
  },
  {
   "attachments": {},
   "cell_type": "markdown",
   "metadata": {},
   "source": [
    "# Function Invocation\n"
   ]
  },
  {
   "attachments": {},
   "cell_type": "markdown",
   "metadata": {},
   "source": [
    "# Function Scope vs Block Scope\n"
   ]
  },
  {
   "attachments": {},
   "cell_type": "markdown",
   "metadata": {},
   "source": [
    "# Dynamic vs Lexical Scope\n"
   ]
  },
  {
   "attachments": {},
   "cell_type": "markdown",
   "metadata": {},
   "source": [
    "# this - call, apply, bind\n"
   ]
  },
  {
   "attachments": {},
   "cell_type": "markdown",
   "metadata": {},
   "source": [
    "# IIFE\n"
   ]
  }
 ],
 "metadata": {
  "language_info": {
   "name": "python"
  },
  "orig_nbformat": 4
 },
 "nbformat": 4,
 "nbformat_minor": 2
}
