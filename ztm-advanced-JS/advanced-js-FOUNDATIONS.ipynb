{
 "cells": [
  {
   "cell_type": "markdown",
   "metadata": {},
   "source": [
    "# JS Foundations - recap"
   ]
  },
  {
   "cell_type": "markdown",
   "metadata": {},
   "source": [
    "LINK to interactive [Course Map](https://coggle.it/diagram/XE3ZoVj-rtA5hcxj/t/advanced-javascript)\n",
    "\n",
    "![Map](Advanced_Javascript.png)"
   ]
  },
  {
   "cell_type": "markdown",
   "metadata": {},
   "source": [
    "# JS Engine"
   ]
  },
  {
   "cell_type": "markdown",
   "metadata": {},
   "source": [
    "- how does a computer read JS\n",
    "- THE ENGINE\n",
    "- there are LOADS of [Engines](https://en.wikipedia.org/wiki/List_of_ECMAScript_engines)\n",
    "- More popular = V8 Engine (Google Chrome, built in C++)\n",
    "\n",
    "- First JS Engine (NetScape) = SpiderMonkey from Brendan Eich\n",
    "- SpiderMonkey is still used by Firefox "
   ]
  },
  {
   "cell_type": "markdown",
   "metadata": {},
   "source": [
    "What's in the Engine? \n",
    "\n",
    "- Parser\n",
    "- AST (Abstract Syntax Tree) look at [this](astexplorer.net) for an example\n",
    "\n",
    "Then can go either\n",
    "- Interpreter\n",
    "- Profiler\n",
    "- Compiler                        \n",
    "- Optimized Code\n",
    "\n",
    "OR\n",
    "\n",
    "- Interpreter\n",
    "- Bytecode\n",
    "\n",
    "![JS Engine](jsEngine.png)"
   ]
  },
  {
   "cell_type": "markdown",
   "metadata": {},
   "source": [
    "## Interpreters & Compilers\n",
    "\n",
    "### Interpreter\n",
    "- translate and read code line-by-line\n",
    "- initially this is how JS worked\n",
    "- this avoids the step of compiling something\n",
    "- send a JS file to the browser and the file is processed on the fly \n",
    "- problem - can get slow\n",
    "\n",
    "### Compiler\n",
    "- doesn't translate on the fly\n",
    "- works ahead of time\n",
    "- compiles down to a language the machien can understand\n",
    "- one pass through code\n",
    "- try to understand what program should be doing\n",
    "- then write it into something the machine can understand - like machine code\n",
    "- compiler takes a bit more time to start, but when it sees loops - it can just add the answer rather than the formula etc \n",
    "\n",
    "### the definition is kind of fuzzy between Int & Compiled\n",
    "- all languages need to be converted to some degree \n",
    "- pro and con to both\n",
    "- interpreter = quicker to get started, but slower with loops and lots of instructions\n",
    "- compiler = slower to get started but can optimise the code during the compile stage, so quicker to run\n",
    "\n",
    "## Babel + TypeScript\n",
    "\n",
    "### Babel\n",
    "- JS compiler \n",
    "- takes modern JS and compiles it JS code that the browser can understand (older JS) \n",
    "\n",
    "### TypeScript\n",
    "- Superset of JS\n",
    "- this can compile 'down' to JavaScript\n",
    "\n",
    "Both of these are examples of compiled languages - take one language and convert to a different one"
   ]
  },
  {
   "cell_type": "markdown",
   "metadata": {},
   "source": [
    "# JIT Compiler\n",
    "- so what if we wanted the best of Interpreter and Comipler = JIT Compiler\n",
    "- this is what browsers started doing \n",
    "- runs it on the fly\n",
    "- but profiles it and looks for optimisations \n",
    "- if same code run a few teimes, pass to the JIT Compiler - looks for optimisations \n",
    "\n",
    "### Byte Code is NOT as low level as Machine Code"
   ]
  }
 ],
 "metadata": {
  "language_info": {
   "name": "python"
  },
  "orig_nbformat": 4
 },
 "nbformat": 4,
 "nbformat_minor": 2
}
