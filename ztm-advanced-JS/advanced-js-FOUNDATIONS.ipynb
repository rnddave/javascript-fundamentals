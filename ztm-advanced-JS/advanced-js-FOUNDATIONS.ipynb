{
 "cells": [
  {
   "cell_type": "markdown",
   "metadata": {},
   "source": [
    "# JS Foundations - recap"
   ]
  },
  {
   "cell_type": "markdown",
   "metadata": {},
   "source": [
    "LINK to interactive [Course Map](https://coggle.it/diagram/XE3ZoVj-rtA5hcxj/t/advanced-javascript)\n",
    "\n",
    "![Map](Advanced_Javascript.png)"
   ]
  },
  {
   "cell_type": "markdown",
   "metadata": {},
   "source": [
    "# JS Engine"
   ]
  },
  {
   "cell_type": "markdown",
   "metadata": {},
   "source": [
    "- how does a computer read JS\n",
    "- THE ENGINE\n",
    "- there are LOADS of [Engines](https://en.wikipedia.org/wiki/List_of_ECMAScript_engines)\n",
    "- More popular = V8 Engine (Google Chrome, built in C++)\n",
    "\n",
    "- First JS Engine (NetScape) = SpiderMonkey from Brendan Eich\n",
    "- SpiderMonkey is still used by Firefox "
   ]
  },
  {
   "cell_type": "markdown",
   "metadata": {},
   "source": [
    "What's in the Engine? \n",
    "\n",
    "- Parser\n",
    "- AST (Abstract Syntax Tree) look at [this](astexplorer.net) for an example\n",
    "\n",
    "Then can go either\n",
    "- Interpreter\n",
    "- Profiler\n",
    "- Compiler                        \n",
    "- Optimized Code\n",
    "\n",
    "OR\n",
    "\n",
    "- Interpreter\n",
    "- Bytecode\n",
    "\n",
    "![JS Engine](jsEngine.png)"
   ]
  },
  {
   "cell_type": "markdown",
   "metadata": {},
   "source": [
    "## Interpreters & Compilers\n",
    "\n",
    "### Interpreter\n",
    "- translate and read code line-by-line\n",
    "- initially this is how JS worked\n",
    "- this avoids the step of compiling something\n",
    "- send a JS file to the browser and the file is processed on the fly \n",
    "- problem - can get slow\n",
    "\n",
    "### Compiler\n",
    "- doesn't translate on the fly\n",
    "- works ahead of time\n",
    "- compiles down to a language the machien can understand\n",
    "- one pass through code\n",
    "- try to understand what program should be doing\n",
    "- then write it into something the machine can understand - like machine code\n",
    "- compiler takes a bit more time to start, but when it sees loops - it can just add the answer rather than the formula etc \n",
    "\n",
    "### the definition is kind of fuzzy between Int & Compiled\n",
    "- all languages need to be converted to some degree \n",
    "- pro and con to both\n",
    "- interpreter = quicker to get started, but slower with loops and lots of instructions\n",
    "- compiler = slower to get started but can optimise the code during the compile stage, so quicker to run\n",
    "\n",
    "## Babel + TypeScript\n",
    "\n",
    "### Babel\n",
    "- JS compiler \n",
    "- takes modern JS and compiles it JS code that the browser can understand (older JS) \n",
    "\n",
    "### TypeScript\n",
    "- Superset of JS\n",
    "- this can compile 'down' to JavaScript\n",
    "\n",
    "Both of these are examples of compiled languages - take one language and convert to a different one"
   ]
  },
  {
   "cell_type": "markdown",
   "metadata": {},
   "source": [
    "# JIT Compiler\n",
    "- so what if we wanted the best of Interpreter and Comipler = JIT Compiler\n",
    "- this is what browsers started doing \n",
    "- runs it on the fly\n",
    "- but profiles it and looks for optimisations \n",
    "- if same code run a few teimes, pass to the JIT Compiler - looks for optimisations \n",
    "\n",
    "### Byte Code is NOT as low level as Machine Code"
   ]
  },
  {
   "cell_type": "markdown",
   "metadata": {},
   "source": [
    "# Is JavaScript an interpreted language? \n",
    "- NOT TECHNICALLY\n",
    "- It depends on the implementation\n",
    "- it once was\n",
    "- we now use compilers to optimise the language, things like the JIT Compiler \n",
    "- Pyton is similar, through compiler or interpreted\n",
    "- basically depends on the implementation "
   ]
  },
  {
   "cell_type": "markdown",
   "metadata": {},
   "source": [
    "# Writing Optimised Code\n",
    "\n",
    "We want to be careful about calling these: \n",
    "- eval()\n",
    "- arguments\n",
    "- for in\n",
    "- with\n",
    "- delete \n",
    "\n",
    "Using these can be problematic - they can affect optimised code (make it less optimised) "
   ]
  },
  {
   "cell_type": "markdown",
   "metadata": {},
   "source": [
    "## Inline Caching \n",
    "\n",
    "- this is where the code has repeated calls to same thing and instead optimises it, for example. "
   ]
  },
  {
   "cell_type": "code",
   "execution_count": null,
   "metadata": {
    "vscode": {
     "languageId": "javascript"
    }
   },
   "outputs": [],
   "source": [
    "// this is an example of Inline Caching\n",
    "function findUser(user) {\n",
    "    return `found ${user.firstName} ${user.lastName}`\n",
    "}\n",
    "\n",
    "const userData {\n",
    "    firstName: 'David',\n",
    "    lastName: 'Thingy'\n",
    "}\n",
    "\n",
    "findUser(userData);\n",
    "\n",
    "// if we called this several times, the code is optimised (inline caching) \n",
    "// so let's say it was going to call the same function manytimes, instead of doing this repeatedly, it would just do this instead\n",
    "'found David Thingy' // this way it avoids repeating the reference check etc. "
   ]
  },
  {
   "cell_type": "markdown",
   "metadata": {},
   "source": [
    "## Hidden Classes\n",
    "- this is where gotchas might sneak out and get us.... \n",
    "- consider this code:"
   ]
  },
  {
   "cell_type": "code",
   "execution_count": null,
   "metadata": {
    "vscode": {
     "languageId": "javascript"
    }
   },
   "outputs": [],
   "source": [
    "// hidden classes example \n",
    "\n",
    "function Animal(x, y) {     // some random function\n",
    "    this.x = x;\n",
    "    this.y = y; \n",
    "}\n",
    "\n",
    "// under the hood, the compiler realises that these objects have the same class = hidden class\n",
    "// they have same properties - they share the same hidden class = optimisation [HOWEVER]\n",
    "const obj1 = new Animal(1,2);   // random object 1\n",
    "const obj2 = new Animal(3,4);   // random object 2\n",
    "\n",
    "obj1.a = 30;        // random values\n",
    "obj1.b = 100;       // random values\n",
    "// for the same of optimisation, you SHOULD instantiate objects in the same order, note below the order is incorrect \n",
    "obj2.b = 30;        // NOTE HERE - we are calling similar objects, assigning similar values\n",
    "obj2.a = 100;       // but in a different order, this will essentially de-optimise the code\n",
    "\n",
    "// so by instantiating things in different orders\n",
    "// we break any chance of optimisation - the compiler sees them coming in different order\n",
    "// thinks they must be different and refer to different class\n",
    "// chance to optimise is reduced = this will slow your code\n",
    "\n",
    "// interestingly, to keep this optimised, we could either instantiate in same order OR \n",
    "// we could assign at the point of constructor"
   ]
  },
  {
   "cell_type": "markdown",
   "metadata": {},
   "source": [
    "this is also why the [delete] can de-optimise as well: "
   ]
  },
  {
   "cell_type": "code",
   "execution_count": null,
   "metadata": {
    "vscode": {
     "languageId": "javascript"
    }
   },
   "outputs": [],
   "source": [
    "function Animal(x, y) {     // some random function\n",
    "    this.x = x;\n",
    "    this.y = y; \n",
    "}\n",
    "\n",
    "const obj1 = new Animal(1,2);   // random object 1\n",
    "const obj2 = new Animal(3,4);   // random object 2\n",
    "\n",
    "delete obj1.x;\n",
    "\n",
    "// I change the hidden class, they no longer line up and opportunity to optimise is reduced = slower code"
   ]
  },
  {
   "cell_type": "markdown",
   "metadata": {},
   "source": [
    "\n",
    "### why not just use Machine code from beginning\n",
    "- difficult to program\n",
    "- we don't know what machine will need to read the code\n",
    "- each browser has potentially a different JavaScript engine\n",
    "\n",
    "- Need to remember the Browser Wars\n",
    "- NetScape came up with JavaScript, they built an engine, Microsoft built a different engine\n",
    "- Compiling in those days would have slowed things down\n",
    "- now there is more computing power\n",
    "- but browsers still compete\n",
    "- they still have different ways of doing things, different JS Engines\n",
    "\n",
    "### but this might change in the future: \n",
    "\n",
    "# WebAssembly\n",
    "[WebAssembly](https://webassembly.org)\n",
    "- keep an eye on this\n",
    "- likely to be the future\n"
   ]
  },
  {
   "cell_type": "markdown",
   "metadata": {},
   "source": [
    "# Call Stack & Memory Heap\n",
    "- VERY IMPORTANT\n",
    "- FOUNDATIONAL CONCEPTS\n",
    "- YOU MIGHT EVEN SEE IT IN INTERVIEWS\n",
    "\n",
    "- JS Engine does a lot for us\n",
    "- 2 most important places... \n",
    "\n",
    "- somewhere to hold variables etc - MEMORY HEAP\n",
    "- we need place to keep track of the code, where we are, etc - CALL STACK"
   ]
  },
  {
   "cell_type": "code",
   "execution_count": null,
   "metadata": {
    "vscode": {
     "languageId": "javascript"
    }
   },
   "outputs": [],
   "source": [
    "// call stack and memory heap\n",
    "\n",
    "const number = 61; // MEMORY HEAP - make some space for this variable \n",
    "const stringer = 'Moobs'; // MEMORY HEAP - make some room for this \n",
    "\n",
    "function doSomething(num) {        // CALL STACK - where are we in the code? \n",
    "    const howLongStart = performance.now();     // MEMORY HEAP\n",
    "    for (i = 1; i < num+1; i++) {        // CALL STACK - where are we in the code? \n",
    "        console.log(`your number was ${num} and I have counted ${i} time(s) to reach your number.`);\n",
    "    }\n",
    "    const howLongEnd = performance.now();       // MEMORY HEAP\n",
    "    return console.log(`it took ${howLongEnd - howLongStart} milliseconds to complete this`)\n",
    "}\n",
    "\n",
    "doSomething(102);       // CALL STACK"
   ]
  },
  {
   "cell_type": "markdown",
   "metadata": {},
   "source": [
    "### Call Stack = FILO \n",
    "First In\n",
    "Last Out\n",
    "\n",
    "- Add code to Call Stack (add the function to Call Stack)\n",
    "- run the function\n",
    "- remove the function from the CALL STACK \n",
    "\n",
    "Can view the call stack in snippets within Chrome for example: \n",
    "\n",
    "![call stack example](call-stack-example.png)"
   ]
  },
  {
   "cell_type": "markdown",
   "metadata": {},
   "source": [
    "interesting video showing the call stack: [HERE](https://academy.zerotomastery.io/courses/698487/lectures/12538785)"
   ]
  },
  {
   "attachments": {},
   "cell_type": "markdown",
   "metadata": {},
   "source": [
    "# Stack Overflow\n",
    "\n",
    "- recursion - this will overwhelm the call stack \n",
    "\n",
    "### Garbage Collection \n",
    "- javaScript is a Garbage Collected Language\n",
    "- this means it cleans up variables that are no longer needed (garbage collection) \n",
    "- can give us false sense security \n",
    "- this is a big mistake\n",
    "- Uses something called Mark and Sweep algorithm \n",
    "\n",
    "### Memory Leaks\n",
    "\n",
    "- easy example "
   ]
  },
  {
   "cell_type": "code",
   "execution_count": null,
   "metadata": {
    "vscode": {
     "languageId": "javascript"
    }
   },
   "outputs": [],
   "source": [
    "let array = [];                 // empty array\n",
    "\n",
    "for (let i = 5; i > 1; i++) {   // this is an infinite loop\n",
    "    array.push(i-1)\n",
    "}                               // if you ran this, this would crash the browser\n",
    "                                // an example of filling up the memory heap"
   ]
  },
  {
   "attachments": {},
   "cell_type": "markdown",
   "metadata": {},
   "source": [
    "why didn't garbage collector catch it? \n",
    "- it was a silly example but\n",
    "- the function remains in use, therefor the garbage collector isn't able to collect unusued memory items"
   ]
  },
  {
   "cell_type": "markdown",
   "metadata": {},
   "source": [
    "## 3 common types of memory leak \n",
    "\n",
    "### Global Variables\n",
    "- they're global, garbage collector always thinks they're needed \n",
    "- especially if they are complex data structures (objects, nested objects etc)\n",
    "- better to declare and use variables at the function level where possible\n",
    "\n",
    "### Event Listeners"
   ]
  },
  {
   "cell_type": "code",
   "execution_count": null,
   "metadata": {
    "vscode": {
     "languageId": "javascript"
    }
   },
   "outputs": [],
   "source": [
    "// event listeners\n",
    "var element = document.getElementById('button');\n",
    "element.addEventListener('click', onClick);"
   ]
  },
  {
   "attachments": {},
   "cell_type": "markdown",
   "metadata": {},
   "source": [
    "this is a common memory leak, add event listeners everwhere and don't remove them when not needed anymore \n",
    "- in background\n",
    "- forget about them\n",
    "- common when lots of back/forward on SinglePageApps "
   ]
  },
  {
   "attachments": {},
   "cell_type": "markdown",
   "metadata": {},
   "source": [
    "### setInterval\n",
    "if we forget to clear, they just keep running for ever."
   ]
  },
  {
   "cell_type": "code",
   "execution_count": null,
   "metadata": {
    "vscode": {
     "languageId": "javascript"
    }
   },
   "outputs": [],
   "source": [
    "// setInterval\n",
    "setInterval(() => {\n",
    "    //.referencing.objects...\n",
    "})"
   ]
  },
  {
   "attachments": {},
   "cell_type": "markdown",
   "metadata": {},
   "source": [
    "Interesting story about [memory leaks @SoundCloud](https://developers.soundcloud.com/blog/garbage-collection-in-redux-applications)"
   ]
  },
  {
   "attachments": {},
   "cell_type": "markdown",
   "metadata": {},
   "source": [
    "# Single Threaded \n",
    "- JS single-threaded language\n",
    "- 1 CALL STACK\n",
    "- 1 at a time!! \n",
    "- Synchronous \n",
    "\n",
    "Some times things you rely on, long running tasks, API fetches etc, they could slow down your code/application if we were indeed limited to the single thread - so there are tricks to get around this. "
   ]
  },
  {
   "attachments": {},
   "cell_type": "markdown",
   "metadata": {},
   "source": [
    "### JavaScript Runtime \n",
    "![js-runtime](js-runtime.png)"
   ]
  },
  {
   "attachments": {},
   "cell_type": "markdown",
   "metadata": {},
   "source": [
    "[JS Runtime playground](http://latentflip.com/loupe/?code=ZnVuY3Rpb24gcHJpbnRIZWxsbygpIHsNCiAgICBjb25zb2xlLmxvZygnSGVsbG8gZnJvbSBiYXonKTsNCn0NCg0KZnVuY3Rpb24gYmF6KCkgew0KICAgIHNldFRpbWVvdXQocHJpbnRIZWxsbywgMzAwMCk7DQp9DQoNCmZ1bmN0aW9uIGJhcigpIHsNCiAgICBiYXooKTsNCn0NCg0KZnVuY3Rpb24gZm9vKCkgew0KICAgIGJhcigpOw0KfQ0KDQpmb28oKTs%3D!!!PGJ1dHRvbj5DbGljayBtZSE8L2J1dHRvbj4%3D)"
   ]
  },
  {
   "cell_type": "markdown",
   "metadata": {},
   "source": []
  }
 ],
 "metadata": {
  "language_info": {
   "name": "python"
  },
  "orig_nbformat": 4
 },
 "nbformat": 4,
 "nbformat_minor": 2
}
