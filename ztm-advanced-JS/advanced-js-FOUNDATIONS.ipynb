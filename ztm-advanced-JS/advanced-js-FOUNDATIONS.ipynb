{
 "cells": [
  {
   "cell_type": "markdown",
   "metadata": {},
   "source": [
    "# JS Foundations - recap"
   ]
  },
  {
   "cell_type": "markdown",
   "metadata": {},
   "source": [
    "LINK to interactive [Course Map](https://coggle.it/diagram/XE3ZoVj-rtA5hcxj/t/advanced-javascript)\n",
    "\n",
    "![Map](Advanced_Javascript.png)"
   ]
  },
  {
   "cell_type": "markdown",
   "metadata": {},
   "source": [
    "# JS Engine"
   ]
  },
  {
   "cell_type": "markdown",
   "metadata": {},
   "source": [
    "- how does a computer read JS\n",
    "- THE ENGINE\n",
    "- there are LOADS of [Engines](https://en.wikipedia.org/wiki/List_of_ECMAScript_engines)\n",
    "- More popular = V8 Engine (Google Chrome, built in C++)\n",
    "\n",
    "- First JS Engine (NetScape) = SpiderMonkey from Brendan Eich\n",
    "- SpiderMonkey is still used by Firefox "
   ]
  },
  {
   "cell_type": "markdown",
   "metadata": {},
   "source": [
    "What's in the Engine? \n",
    "\n",
    "- Parser\n",
    "- AST (Abstract Syntax Tree) look at [this](astexplorer.net) for an example\n",
    "\n",
    "Then can go either\n",
    "- Interpreter\n",
    "- Profiler\n",
    "- Compiler\n",
    "- Optimized Code\n",
    "\n",
    "OR\n",
    "\n",
    "- Interpreter\n",
    "- Bytecode"
   ]
  }
 ],
 "metadata": {
  "language_info": {
   "name": "python"
  },
  "orig_nbformat": 4
 },
 "nbformat": 4,
 "nbformat_minor": 2
}
